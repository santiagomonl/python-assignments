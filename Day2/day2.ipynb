{
 "cells": [
  {
   "cell_type": "code",
   "execution_count": 1,
   "metadata": {},
   "outputs": [
    {
     "name": "stdout",
     "output_type": "stream",
     "text": [
      "Area: 150\n",
      "Perimeter: 50\n",
      "Area: 70685.834705775\n",
      "Circumference: 942.477796077\n"
     ]
    }
   ],
   "source": [
    "width = 10\n",
    "length = 15\n",
    "rectangle_area = width * length\n",
    "rectangle_perimeter = 2 * (width + length)\n",
    "\n",
    "radius = 150\n",
    "pi = 3.14159265359\n",
    "circle_area = pi * radius**2\n",
    "circle_circumference = 2 * pi * radius\n",
    "\n",
    "print(\"Area:\", rectangle_area)\n",
    "print(\"Perimeter:\", rectangle_perimeter)\n",
    "\n",
    "print(\"Area:\", circle_area)\n",
    "print(\"Circumference:\", circle_circumference)\n"
   ]
  },
  {
   "cell_type": "code",
   "execution_count": null,
   "metadata": {},
   "outputs": [],
   "source": []
  },
  {
   "cell_type": "code",
   "execution_count": null,
   "metadata": {},
   "outputs": [],
   "source": []
  }
 ],
 "metadata": {
  "kernelspec": {
   "display_name": "Python 3",
   "language": "python",
   "name": "python3"
  },
  "language_info": {
   "codemirror_mode": {
    "name": "ipython",
    "version": 3
   },
   "file_extension": ".py",
   "mimetype": "text/x-python",
   "name": "python",
   "nbconvert_exporter": "python",
   "pygments_lexer": "ipython3",
   "version": "3.10.4"
  }
 },
 "nbformat": 4,
 "nbformat_minor": 2
}
