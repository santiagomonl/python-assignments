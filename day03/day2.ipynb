{
 "cells": [
  {
   "cell_type": "code",
   "execution_count": null,
   "metadata": {},
   "outputs": [
    {
     "name": "stdout",
     "output_type": "stream",
     "text": [
      "Area: 233.45000000000002\n",
      "Perimeter: 63.6\n",
      "Area: 598.2849049496797\n",
      "Circumference: 86.70795723908401\n"
     ]
    }
   ],
   "source": [
    "width = float(input(\"Provide the width of a rectangle: \"))\n",
    "length = float(input(\"Provide the length of a rectangle: \"))\n",
    "rectangle_area = width * length\n",
    "rectangle_perimeter = 2 * (width + length)\n",
    "\n",
    "radius = float(input(\"Provide the radius of a circle: \"))\n",
    "pi = 3.14159265359\n",
    "circle_area = pi * radius**2\n",
    "circle_circumference = 2 * pi * radius\n",
    "\n",
    "print(\"Area of the rectangle:\", rectangle_area)\n",
    "print(\"Perimeter of the rectangle:\", rectangle_perimeter)\n",
    "\n",
    "print(\"Area of the circle:\", circle_area)\n",
    "print(\"Circumference:\", circle_circumference)\n"
   ]
  },
  {
   "cell_type": "code",
   "execution_count": null,
   "metadata": {},
   "outputs": [],
   "source": []
  }
 ],
 "metadata": {
  "kernelspec": {
   "display_name": "Python 3",
   "language": "python",
   "name": "python3"
  },
  "language_info": {
   "codemirror_mode": {
    "name": "ipython",
    "version": 3
   },
   "file_extension": ".py",
   "mimetype": "text/x-python",
   "name": "python",
   "nbconvert_exporter": "python",
   "pygments_lexer": "ipython3",
   "version": "3.10.4"
  }
 },
 "nbformat": 4,
 "nbformat_minor": 2
}
